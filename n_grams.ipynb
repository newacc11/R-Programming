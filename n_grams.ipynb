{
  "nbformat": 4,
  "nbformat_minor": 0,
  "metadata": {
    "colab": {
      "name": "n_grams.ipynb",
      "provenance": [],
      "collapsed_sections": [],
      "authorship_tag": "ABX9TyP3yaMuWltJIBU7XLrlz3wC"
    },
    "kernelspec": {
      "name": "python3",
      "display_name": "Python 3"
    },
    "language_info": {
      "name": "python"
    }
  },
  "cells": [
    {
      "cell_type": "code",
      "metadata": {
        "colab": {
          "base_uri": "https://localhost:8080/"
        },
        "id": "vgbQHsYYjkF8",
        "outputId": "630fb63f-4384-44f1-b1a5-364b02e7970d"
      },
      "source": [
        "import pymorphy2\n",
        "import nltk\n",
        "nltk.download('punkt')\n",
        "nltk.download('wordnet')\n",
        "nltk.download('stopwords')\n",
        "from nltk import ngrams\n",
        "import re\n",
        "import pandas as pd\n",
        "import string\n",
        "from nltk.corpus import stopwords\n",
        "import numpy as np"
      ],
      "execution_count": 49,
      "outputs": [
        {
          "output_type": "stream",
          "text": [
            "[nltk_data] Downloading package punkt to /root/nltk_data...\n",
            "[nltk_data]   Package punkt is already up-to-date!\n",
            "[nltk_data] Downloading package wordnet to /root/nltk_data...\n",
            "[nltk_data]   Package wordnet is already up-to-date!\n",
            "[nltk_data] Downloading package stopwords to /root/nltk_data...\n",
            "[nltk_data]   Package stopwords is already up-to-date!\n"
          ],
          "name": "stdout"
        }
      ]
    },
    {
      "cell_type": "code",
      "metadata": {
        "id": "mS5CSfffjisI"
      },
      "source": [
        "def standart_data(data):\n",
        "  stop_words = set(stopwords.words('russian'))\n",
        "  morph = pymorphy2.MorphAnalyzer()\n",
        "  words = [re.sub(r'\\d+', '', i.lower()).replace('»', '').replace('«', '').translate(str.maketrans('', '', string.punctuation)) for i in data.split()]\n",
        "  quest = []\n",
        "  for i in words:\n",
        "    quest.append([morph.parse(w)[0].normal_form for w in nltk.word_tokenize(i)])# if w not in stop_words])\n",
        "  quest = [sorted(list(set([j for j in i]))) for i in quest if i != []]\n",
        "  return ' '.join([' '.join(i) for i in quest])"
      ],
      "execution_count": 27,
      "outputs": []
    },
    {
      "cell_type": "code",
      "metadata": {
        "id": "fhnkYF9slHLA"
      },
      "source": [
        "def n_grams(text, n):\n",
        "    n_grams1 = ngrams(standart_data(text).split(), n)\n",
        "    return [' '.join(grams) for grams in n_grams1]"
      ],
      "execution_count": 67,
      "outputs": []
    },
    {
      "cell_type": "code",
      "metadata": {
        "id": "s2DYCVfRw1jV"
      },
      "source": [
        "def get_key(d, value):\n",
        "    for k, v in d.items():\n",
        "        if v == value:\n",
        "            return k"
      ],
      "execution_count": 70,
      "outputs": []
    },
    {
      "cell_type": "code",
      "metadata": {
        "id": "iBt9BLZ-mAx7"
      },
      "source": [
        "data_df = {'Comment': ['Товар оказался дорогим и также его не было на складе', \n",
        "                       'В магазине не продается данная модель телефона',\n",
        "                       'Клиент решил отменить покупку после того, как ему позвонил сын и сказал, что уже купил',\n",
        "                       'Покупатель искал стиральную машинку размером 345*432, но у нас нет машинки таких габаритов',\n",
        "                       'В нашем магазине не продается алкоголь, который хотел купить посетитель', \n",
        "                       'Клиент сказал, что ему нужно подумать. Я поставил оповещение на 10 число',\n",
        "                       'Мужчина искал спиннинг определенного размера, у нас такого не оказалось',\n",
        "                       'Посетитель отменил покупку, так как не хватило денег, а кредит не одобрили',\n",
        "                       'Женщина еще посоветуется с семьей, прежде чем купить телевизор. Напомню ей 25 июня',\n",
        "                       'Мужина сказал, что пришал праста посмотреть на тавары, консультировал по смартфонам'\n",
        "                       ], \n",
        "           'Tags': [[]] * 10, \n",
        "           'Employee_id': [i for i in range(1, 6)]* 2}\n",
        "df = pd.DataFrame(data_df)\n",
        "df['Comment_ngrams'] = [n_grams(standart_data(i), 6) for i in df['Comment']]"
      ],
      "execution_count": 111,
      "outputs": []
    },
    {
      "cell_type": "code",
      "metadata": {
        "colab": {
          "base_uri": "https://localhost:8080/",
          "height": 357
        },
        "id": "GatFXW77orhN",
        "outputId": "ea749016-dc34-4b4b-b4d0-b5d763caa972"
      },
      "source": [
        "df"
      ],
      "execution_count": 112,
      "outputs": [
        {
          "output_type": "execute_result",
          "data": {
            "text/html": [
              "<div>\n",
              "<style scoped>\n",
              "    .dataframe tbody tr th:only-of-type {\n",
              "        vertical-align: middle;\n",
              "    }\n",
              "\n",
              "    .dataframe tbody tr th {\n",
              "        vertical-align: top;\n",
              "    }\n",
              "\n",
              "    .dataframe thead th {\n",
              "        text-align: right;\n",
              "    }\n",
              "</style>\n",
              "<table border=\"1\" class=\"dataframe\">\n",
              "  <thead>\n",
              "    <tr style=\"text-align: right;\">\n",
              "      <th></th>\n",
              "      <th>Comment</th>\n",
              "      <th>Tags</th>\n",
              "      <th>Employee_id</th>\n",
              "      <th>Comment_ngrams</th>\n",
              "    </tr>\n",
              "  </thead>\n",
              "  <tbody>\n",
              "    <tr>\n",
              "      <th>0</th>\n",
              "      <td>Товар оказался дорогим и также его не было на ...</td>\n",
              "      <td>[]</td>\n",
              "      <td>1</td>\n",
              "      <td>[товар оказаться дорога и также он, оказаться ...</td>\n",
              "    </tr>\n",
              "    <tr>\n",
              "      <th>1</th>\n",
              "      <td>В магазине не продается данная модель телефона</td>\n",
              "      <td>[]</td>\n",
              "      <td>2</td>\n",
              "      <td>[в магазин не продаваться дать модель, магазин...</td>\n",
              "    </tr>\n",
              "    <tr>\n",
              "      <th>2</th>\n",
              "      <td>Клиент решил отменить покупку после того, как ...</td>\n",
              "      <td>[]</td>\n",
              "      <td>3</td>\n",
              "      <td>[клиент решить отменить покупка после тот, реш...</td>\n",
              "    </tr>\n",
              "    <tr>\n",
              "      <th>3</th>\n",
              "      <td>Покупатель искал стиральную машинку размером 3...</td>\n",
              "      <td>[]</td>\n",
              "      <td>4</td>\n",
              "      <td>[покупатель искать стиральный машинка размер н...</td>\n",
              "    </tr>\n",
              "    <tr>\n",
              "      <th>4</th>\n",
              "      <td>В нашем магазине не продается алкоголь, которы...</td>\n",
              "      <td>[]</td>\n",
              "      <td>5</td>\n",
              "      <td>[в наш магазин не продаваться алкоголь, наш ма...</td>\n",
              "    </tr>\n",
              "    <tr>\n",
              "      <th>5</th>\n",
              "      <td>Клиент сказал, что ему нужно подумать. Я поста...</td>\n",
              "      <td>[]</td>\n",
              "      <td>1</td>\n",
              "      <td>[клиент сказать что он нужно подумать, сказать...</td>\n",
              "    </tr>\n",
              "    <tr>\n",
              "      <th>6</th>\n",
              "      <td>Мужчина искал спиннинг определенного размера, ...</td>\n",
              "      <td>[]</td>\n",
              "      <td>2</td>\n",
              "      <td>[мужчина искать спиннинг определённый размер у...</td>\n",
              "    </tr>\n",
              "    <tr>\n",
              "      <th>7</th>\n",
              "      <td>Посетитель отменил покупку, так как не хватило...</td>\n",
              "      <td>[]</td>\n",
              "      <td>3</td>\n",
              "      <td>[посетитель отменить покупка так как не, отмен...</td>\n",
              "    </tr>\n",
              "    <tr>\n",
              "      <th>8</th>\n",
              "      <td>Женщина еще посоветуется с семьей, прежде чем ...</td>\n",
              "      <td>[]</td>\n",
              "      <td>4</td>\n",
              "      <td>[женщина ещё посоветоваться с семья прежде, ещ...</td>\n",
              "    </tr>\n",
              "    <tr>\n",
              "      <th>9</th>\n",
              "      <td>Мужина сказал, что пришал праста посмотреть на...</td>\n",
              "      <td>[]</td>\n",
              "      <td>5</td>\n",
              "      <td>[мужин сказать что пришалый праста посмотреть,...</td>\n",
              "    </tr>\n",
              "  </tbody>\n",
              "</table>\n",
              "</div>"
            ],
            "text/plain": [
              "                                             Comment  ...                                     Comment_ngrams\n",
              "0  Товар оказался дорогим и также его не было на ...  ...  [товар оказаться дорога и также он, оказаться ...\n",
              "1     В магазине не продается данная модель телефона  ...  [в магазин не продаваться дать модель, магазин...\n",
              "2  Клиент решил отменить покупку после того, как ...  ...  [клиент решить отменить покупка после тот, реш...\n",
              "3  Покупатель искал стиральную машинку размером 3...  ...  [покупатель искать стиральный машинка размер н...\n",
              "4  В нашем магазине не продается алкоголь, которы...  ...  [в наш магазин не продаваться алкоголь, наш ма...\n",
              "5  Клиент сказал, что ему нужно подумать. Я поста...  ...  [клиент сказать что он нужно подумать, сказать...\n",
              "6  Мужчина искал спиннинг определенного размера, ...  ...  [мужчина искать спиннинг определённый размер у...\n",
              "7  Посетитель отменил покупку, так как не хватило...  ...  [посетитель отменить покупка так как не, отмен...\n",
              "8  Женщина еще посоветуется с семьей, прежде чем ...  ...  [женщина ещё посоветоваться с семья прежде, ещ...\n",
              "9  Мужина сказал, что пришал праста посмотреть на...  ...  [мужин сказать что пришалый праста посмотреть,...\n",
              "\n",
              "[10 rows x 4 columns]"
            ]
          },
          "metadata": {
            "tags": []
          },
          "execution_count": 112
        }
      ]
    },
    {
      "cell_type": "code",
      "metadata": {
        "id": "ASNIZHi5irgH"
      },
      "source": [
        "key_words = {'Дорого': [['дорог'], ['не', 'денег'], ['не', 'деньг']], \n",
        "             'Нет в наличии': [['не', 'склад']], \n",
        "             'Передумал': ['отменить', 'передумать'], \n",
        "             'Стиральные машины': ['стираль'], \n",
        "             'Нет подходящего товара': [['не', 'прода']],\n",
        "             'Нет подходящего размера': ['габарит', 'размер'],\n",
        "             'Спиннинг': ['спиннинг'],\n",
        "             'Нужно подумать': ['думать', 'подумать', 'совет'],\n",
        "             'Оповещение': ['напомнить', 'помнить', 'оповещение', 'напоминание'],\n",
        "             'Просмотр': ['посмотреть', 'ознакомиться'],\n",
        "             'Телевизор': ['телевизор'],\n",
        "             'Кредит': ['кредит'],\n",
        "             'Телефон': ['телефон', 'смартфон']\n",
        "             }"
      ],
      "execution_count": 120,
      "outputs": []
    },
    {
      "cell_type": "code",
      "metadata": {
        "id": "wjP4TopS1opn"
      },
      "source": [
        "global_tags = []\n",
        "for k in range(len(df)):\n",
        "  list_tags = []\n",
        "  for v in range(len(df['Comment_ngrams'][k])):\n",
        "    for i in key_words.values():\n",
        "      for j in i:\n",
        "        if type(j) == list and len(j) > 1:\n",
        "          if j[0] in df['Comment_ngrams'][k][v] and j[1] in df['Comment_ngrams'][k][v]:\n",
        "            if get_key(key_words, i) not in list_tags:\n",
        "              list_tags += [get_key(key_words, i)]\n",
        "        elif type(j) == list and len(j) == 1:\n",
        "          if j[0] in df['Comment_ngrams'][k][v]:\n",
        "            if get_key(key_words, i) not in list_tags:\n",
        "              list_tags += [get_key(key_words, i)]\n",
        "        else:\n",
        "          if j in df['Comment_ngrams'][k][v]:\n",
        "            if get_key(key_words, i) not in list_tags:\n",
        "              list_tags += [get_key(key_words, i)]\n",
        "  global_tags.append(list_tags)"
      ],
      "execution_count": 121,
      "outputs": []
    },
    {
      "cell_type": "code",
      "metadata": {
        "id": "VTd738pFxKrD"
      },
      "source": [
        "df['Tags'] = global_tags"
      ],
      "execution_count": 125,
      "outputs": []
    },
    {
      "cell_type": "code",
      "metadata": {
        "colab": {
          "base_uri": "https://localhost:8080/",
          "height": 357
        },
        "id": "GTkaO3YWxyGR",
        "outputId": "afe4aae7-15a4-4677-f188-d13d9f7a5dec"
      },
      "source": [
        "df"
      ],
      "execution_count": 126,
      "outputs": [
        {
          "output_type": "execute_result",
          "data": {
            "text/html": [
              "<div>\n",
              "<style scoped>\n",
              "    .dataframe tbody tr th:only-of-type {\n",
              "        vertical-align: middle;\n",
              "    }\n",
              "\n",
              "    .dataframe tbody tr th {\n",
              "        vertical-align: top;\n",
              "    }\n",
              "\n",
              "    .dataframe thead th {\n",
              "        text-align: right;\n",
              "    }\n",
              "</style>\n",
              "<table border=\"1\" class=\"dataframe\">\n",
              "  <thead>\n",
              "    <tr style=\"text-align: right;\">\n",
              "      <th></th>\n",
              "      <th>Comment</th>\n",
              "      <th>Tags</th>\n",
              "      <th>Employee_id</th>\n",
              "      <th>Comment_ngrams</th>\n",
              "    </tr>\n",
              "  </thead>\n",
              "  <tbody>\n",
              "    <tr>\n",
              "      <th>0</th>\n",
              "      <td>Товар оказался дорогим и также его не было на ...</td>\n",
              "      <td>[Дорого, Нет в наличии]</td>\n",
              "      <td>1</td>\n",
              "      <td>[товар оказаться дорога и также он, оказаться ...</td>\n",
              "    </tr>\n",
              "    <tr>\n",
              "      <th>1</th>\n",
              "      <td>В магазине не продается данная модель телефона</td>\n",
              "      <td>[Нет подходящего товара, Телефон]</td>\n",
              "      <td>2</td>\n",
              "      <td>[в магазин не продаваться дать модель, магазин...</td>\n",
              "    </tr>\n",
              "    <tr>\n",
              "      <th>2</th>\n",
              "      <td>Клиент решил отменить покупку после того, как ...</td>\n",
              "      <td>[Передумал]</td>\n",
              "      <td>3</td>\n",
              "      <td>[клиент решить отменить покупка после тот, реш...</td>\n",
              "    </tr>\n",
              "    <tr>\n",
              "      <th>3</th>\n",
              "      <td>Покупатель искал стиральную машинку размером 3...</td>\n",
              "      <td>[Стиральные машины, Нет подходящего размера]</td>\n",
              "      <td>4</td>\n",
              "      <td>[покупатель искать стиральный машинка размер н...</td>\n",
              "    </tr>\n",
              "    <tr>\n",
              "      <th>4</th>\n",
              "      <td>В нашем магазине не продается алкоголь, которы...</td>\n",
              "      <td>[Нет подходящего товара]</td>\n",
              "      <td>5</td>\n",
              "      <td>[в наш магазин не продаваться алкоголь, наш ма...</td>\n",
              "    </tr>\n",
              "    <tr>\n",
              "      <th>5</th>\n",
              "      <td>Клиент сказал, что ему нужно подумать. Я поста...</td>\n",
              "      <td>[Нужно подумать, Оповещение]</td>\n",
              "      <td>1</td>\n",
              "      <td>[клиент сказать что он нужно подумать, сказать...</td>\n",
              "    </tr>\n",
              "    <tr>\n",
              "      <th>6</th>\n",
              "      <td>Мужчина искал спиннинг определенного размера, ...</td>\n",
              "      <td>[Нет подходящего размера, Спиннинг]</td>\n",
              "      <td>2</td>\n",
              "      <td>[мужчина искать спиннинг определённый размер у...</td>\n",
              "    </tr>\n",
              "    <tr>\n",
              "      <th>7</th>\n",
              "      <td>Посетитель отменил покупку, так как не хватило...</td>\n",
              "      <td>[Передумал, Дорого, Кредит]</td>\n",
              "      <td>3</td>\n",
              "      <td>[посетитель отменить покупка так как не, отмен...</td>\n",
              "    </tr>\n",
              "    <tr>\n",
              "      <th>8</th>\n",
              "      <td>Женщина еще посоветуется с семьей, прежде чем ...</td>\n",
              "      <td>[Нужно подумать, Телевизор, Оповещение]</td>\n",
              "      <td>4</td>\n",
              "      <td>[женщина ещё посоветоваться с семья прежде, ещ...</td>\n",
              "    </tr>\n",
              "    <tr>\n",
              "      <th>9</th>\n",
              "      <td>Мужина сказал, что пришал праста посмотреть на...</td>\n",
              "      <td>[Просмотр, Телефон]</td>\n",
              "      <td>5</td>\n",
              "      <td>[мужин сказать что пришалый праста посмотреть,...</td>\n",
              "    </tr>\n",
              "  </tbody>\n",
              "</table>\n",
              "</div>"
            ],
            "text/plain": [
              "                                             Comment  ...                                     Comment_ngrams\n",
              "0  Товар оказался дорогим и также его не было на ...  ...  [товар оказаться дорога и также он, оказаться ...\n",
              "1     В магазине не продается данная модель телефона  ...  [в магазин не продаваться дать модель, магазин...\n",
              "2  Клиент решил отменить покупку после того, как ...  ...  [клиент решить отменить покупка после тот, реш...\n",
              "3  Покупатель искал стиральную машинку размером 3...  ...  [покупатель искать стиральный машинка размер н...\n",
              "4  В нашем магазине не продается алкоголь, которы...  ...  [в наш магазин не продаваться алкоголь, наш ма...\n",
              "5  Клиент сказал, что ему нужно подумать. Я поста...  ...  [клиент сказать что он нужно подумать, сказать...\n",
              "6  Мужчина искал спиннинг определенного размера, ...  ...  [мужчина искать спиннинг определённый размер у...\n",
              "7  Посетитель отменил покупку, так как не хватило...  ...  [посетитель отменить покупка так как не, отмен...\n",
              "8  Женщина еще посоветуется с семьей, прежде чем ...  ...  [женщина ещё посоветоваться с семья прежде, ещ...\n",
              "9  Мужина сказал, что пришал праста посмотреть на...  ...  [мужин сказать что пришалый праста посмотреть,...\n",
              "\n",
              "[10 rows x 4 columns]"
            ]
          },
          "metadata": {
            "tags": []
          },
          "execution_count": 126
        }
      ]
    }
  ]
}